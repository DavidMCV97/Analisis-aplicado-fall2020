{
 "cells": [
  {
   "cell_type": "code",
   "execution_count": 24,
   "metadata": {},
   "outputs": [],
   "source": [
    "#Importar librerías \n",
    "import numpy as np\n",
    "import math as ma\n",
    "from numpy import linalg as la"
   ]
  },
  {
   "cell_type": "code",
   "execution_count": 25,
   "metadata": {},
   "outputs": [],
   "source": [
    "#Código para caluclar el gradiente\n",
    "#elegimos un error apropiado\n",
    "def grad(f,xo):\n",
    "    n = xo.size\n",
    "    eps=0.000001\n",
    "    res=np.zeros(n)\n",
    "    for i in range(n):\n",
    "        zer = np.zeros(n)\n",
    "        zer[i] += eps\n",
    "        x1 = xo + zer\n",
    "        res[i] = (f(x1)-f(xo))/eps\n",
    "    return res"
   ]
  },
  {
   "cell_type": "code",
   "execution_count": 58,
   "metadata": {},
   "outputs": [
    {
     "data": {
      "text/plain": [
       "-4.382026634673881"
      ]
     },
     "execution_count": 58,
     "metadata": {},
     "output_type": "execute_result"
    }
   ],
   "source": [
    "#Aquí definimos nuestras funciones para probar nuestro código\n",
    "#función 1\n",
    "def f(xo):\n",
    "    return sum(xo**2 + 2*xo -5)\n",
    "#función 2\n",
    "def g(xo):\n",
    "    return sum(xo**3 + 7*xo -9)\n",
    "#función 3\n",
    "def h(xo):\n",
    "    resta=0\n",
    "    for i in range(len(xo)):\n",
    "        resta=resta-ma.log(xo[i])\n",
    "    return resta\n",
    "#función 4\n",
    "def i(xo):\n",
    "    suma=0\n",
    "    for i in range(len(xo)):\n",
    "        suma=suma+ma.sqrt(xo[i])\n",
    "    return suma\n",
    "\n",
    "xo = np.array([4,2,5,2])\n",
    "#imprimimos el valor de la función en xo \n",
    "h(xo)"
   ]
  },
  {
   "cell_type": "code",
   "execution_count": 54,
   "metadata": {},
   "outputs": [
    {
     "data": {
      "text/plain": [
       "array([0.24999998, 0.35355335, 0.22360679, 0.35355335])"
      ]
     },
     "execution_count": 54,
     "metadata": {},
     "output_type": "execute_result"
    }
   ],
   "source": [
    "#imprimos el gradiente que corresponde al vector de derivadas parciales evaluadas \n",
    "grad(i,xo)"
   ]
  },
  {
   "cell_type": "code",
   "execution_count": 65,
   "metadata": {},
   "outputs": [],
   "source": [
    "A = [[1, 4, 5,7], \n",
    "    [-5, 8, 9,1],\n",
    "    [2,3,4,8],\n",
    "    [-2,-5,11,4]]"
   ]
  },
  {
   "cell_type": "code",
   "execution_count": 9,
   "metadata": {},
   "outputs": [],
   "source": [
    "#Código que calcula la hessiana\n",
    "#el desarrollo de este método se hará con diferencias finitas \n",
    "def hess(f,xo):\n",
    "    n = xo.size\n",
    "    eps=0.000001\n",
    "    res=np.zeros((n,n))\n",
    "    for i in range(n):\n",
    "        for j in range(n):\n",
    "            zer = np.zeros(n)\n",
    "            zer2 = np.zeros(n)\n",
    "            zer[i] += eps\n",
    "            zer2[j] += eps\n",
    "            x_e = xo + zer + zer2\n",
    "            x_ei = xo + zer\n",
    "            x_ej = xo + zer2\n",
    "            res[i][j] = (f(x_e)-f(x_ei)-f(x_ej)+f(xo))/(eps**2)\n",
    "    return res"
   ]
  },
  {
   "cell_type": "code",
   "execution_count": 55,
   "metadata": {},
   "outputs": [
    {
     "data": {
      "text/plain": [
       "array([[-0.03108624,  0.        ,  0.        ,  0.        ],\n",
       "       [ 0.        , -0.08881784,  0.        ,  0.        ],\n",
       "       [ 0.        ,  0.        , -0.02220446,  0.        ],\n",
       "       [ 0.        ,  0.        ,  0.        , -0.08881784]])"
      ]
     },
     "execution_count": 55,
     "metadata": {},
     "output_type": "execute_result"
    }
   ],
   "source": [
    "#imprimos la Hessiana \n",
    "hess(i,xo)"
   ]
  },
  {
   "cell_type": "code",
   "execution_count": 22,
   "metadata": {},
   "outputs": [],
   "source": [
    "#Código que regresa si el punto xk cumple con las condiciones de optimalidad\n",
    "def condiciones_optimalidad(f,xo,tol):\n",
    "    n = len(grad(f,xo))\n",
    "    v,w = la.eig(hess(f,xo))\n",
    "    n1 = len(v)\n",
    "    bandera = True\n",
    "    bandera1 = True\n",
    "    eps=0.0001\n",
    "    \n",
    "    for i in range(n):\n",
    "        if(abs(grad(f,xo)[i])>tol):\n",
    "            bandera= False\n",
    "        if(v[i]<=0):\n",
    "            bandera1 = False\n",
    "            \n",
    "    if (bandera == True and bandera1 == True):\n",
    "        return \"las condiciones de optamilidad se cumplen\"\n",
    "    else:\n",
    "        return \"las condciones de optimalidad no se cumplen\"\n",
    "    \n",
    "        "
   ]
  },
  {
   "cell_type": "code",
   "execution_count": 12,
   "metadata": {},
   "outputs": [
    {
     "data": {
      "text/plain": [
       "'las condciones de optimalidad no se cumplen'"
      ]
     },
     "execution_count": 12,
     "metadata": {},
     "output_type": "execute_result"
    }
   ],
   "source": [
    "#permitimos que el usuario ingrese un nivel de tolerancia \n",
    "condiciones_optimalidad(f,xo,.001)"
   ]
  },
  {
   "cell_type": "code",
   "execution_count": 13,
   "metadata": {},
   "outputs": [],
   "source": [
    "# definir función mk \n",
    "def mk(f,xo,p):\n",
    "    H = hess(f,xo)\n",
    "    G = grad(f,xo)\n",
    "    pt= np.transpose(p)\n",
    "    return f(xo) + np.dot(pt,G) + 0.5*np.dot(np.dot(pt,H),pt)\n"
   ]
  },
  {
   "cell_type": "code",
   "execution_count": 15,
   "metadata": {},
   "outputs": [
    {
     "data": {
      "text/plain": [
       "55.40092678037951"
      ]
     },
     "execution_count": 15,
     "metadata": {},
     "output_type": "execute_result"
    }
   ],
   "source": [
    "#probamos con un punto la función\n",
    "p=[.01,.02,.005,.02]\n",
    "mk(f,xo,p)"
   ]
  },
  {
   "cell_type": "code",
   "execution_count": null,
   "metadata": {},
   "outputs": [],
   "source": []
  }
 ],
 "metadata": {
  "kernelspec": {
   "display_name": "Python 3",
   "language": "python",
   "name": "python3"
  },
  "language_info": {
   "codemirror_mode": {
    "name": "ipython",
    "version": 3
   },
   "file_extension": ".py",
   "mimetype": "text/x-python",
   "name": "python",
   "nbconvert_exporter": "python",
   "pygments_lexer": "ipython3",
   "version": "3.8.5"
  }
 },
 "nbformat": 4,
 "nbformat_minor": 4
}
