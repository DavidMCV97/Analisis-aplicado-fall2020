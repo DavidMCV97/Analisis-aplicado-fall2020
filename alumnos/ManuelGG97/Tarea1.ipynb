{
 "cells": [
  {
   "cell_type": "code",
   "execution_count": 183,
   "metadata": {},
   "outputs": [],
   "source": [
    "import numpy as np\n",
    "import scipy.linalg as la"
   ]
  },
  {
   "cell_type": "markdown",
   "metadata": {},
   "source": [
    "# Tarea 1"
   ]
  },
  {
   "cell_type": "markdown",
   "metadata": {},
   "source": [
    "Manuel García Garduño\n",
    "Clave: 162136"
   ]
  },
  {
   "cell_type": "markdown",
   "metadata": {},
   "source": [
    "## Gradiente"
   ]
  },
  {
   "cell_type": "code",
   "execution_count": 83,
   "metadata": {},
   "outputs": [],
   "source": [
    "def gradiente(f,xk):\n",
    "    epsilon    = 0.000001     #tamaño del incremento para aproximar la derivada\n",
    "    n          = xk.size      #numero de variables\n",
    "    resp       = np.zeros(n)  #vector que almacena el gradiente evaluado en xk\n",
    "    for i in range(n):\n",
    "        h       = np.zeros(n)\n",
    "        h[i]    = epsilon\n",
    "        resp[i] = (f(xk + h) - f(xk))/epsilon\n",
    "    return resp"
   ]
  },
  {
   "cell_type": "code",
   "execution_count": 87,
   "metadata": {},
   "outputs": [],
   "source": [
    "def test_function(x):\n",
    "    n = x.size\n",
    "    resp = 0\n",
    "    for i in range(n):\n",
    "        resp = resp + x[i]**2\n",
    "    return resp"
   ]
  },
  {
   "cell_type": "markdown",
   "metadata": {},
   "source": [
    "## Hessiana"
   ]
  },
  {
   "cell_type": "code",
   "execution_count": 158,
   "metadata": {},
   "outputs": [],
   "source": [
    "def hessiana(f,xk):\n",
    "    epsilon = 0.000001\n",
    "    n       = xk.size\n",
    "    resp    = np.zeros((n,n))\n",
    "    for i in range(n):\n",
    "        for j in range(n):\n",
    "            h    = np.zeros(n)\n",
    "            h[j] = epsilon\n",
    "            resp[i][j] = (gradiente(f,xk + h)[i] - gradiente(f,xk)[i])/epsilon\n",
    "    return resp\n",
    "    "
   ]
  },
  {
   "cell_type": "markdown",
   "metadata": {},
   "source": [
    "## Condiciones de Optimalidad"
   ]
  },
  {
   "cell_type": "code",
   "execution_count": 197,
   "metadata": {},
   "outputs": [],
   "source": [
    "def positiva_definida(M):\n",
    "    resp = False #De entrada asume que la matriz no es pos definida\n",
    "    simetrica   = False #Hay que verificar si la matriz es simétrica\n",
    "    autovalores = False #Hay que verificar si los autovalores son todos positivos\n",
    "    n = M.shape[0]\n",
    "    contador1 = 0\n",
    "    contador2 = 0\n",
    "    #Primero checamos si la matriz es simétrica\n",
    "    for i in range(n):\n",
    "        for j in range(n):\n",
    "            if M[i][j] != M[j][i]:\n",
    "                conatdor1 = contador1 + 1\n",
    "    if contador1 == 0:\n",
    "        simetrica = True\n",
    "    #Luego checamos si los autovalores son positivos\n",
    "    eig_val = la.eig(M)[0]\n",
    "    for i in range(n):\n",
    "        if eig_val[i] <= 0:\n",
    "            contador2 = contador2 + 1\n",
    "    if contador2 == 0:\n",
    "        autovalores = True\n",
    "    if simetrica and autovalores:\n",
    "        resp = True\n",
    "    return resp\n",
    "    \n"
   ]
  },
  {
   "cell_type": "markdown",
   "metadata": {},
   "source": [
    "Ahora ya tenemos dos funciones muy importantes:\n",
    "1.- Aquella que nos da el valor del gradiente\n",
    "2.- Aquella que nos indica si una matriz es positiva definida.\n",
    " Juntando estas dos funciones en una sola podemos verificar las condiciones de optimalidad y, por lo tanto, saber si un punto dado es un mínimo local."
   ]
  },
  {
   "cell_type": "code",
   "execution_count": 198,
   "metadata": {},
   "outputs": [],
   "source": [
    "#Asumiendo que la función es de clase C2\n",
    "def condiciones_optimalidad(f,xk):\n",
    "    resp = False\n",
    "    cond1 = True\n",
    "    cond2 = False\n",
    "    #Obtenemos el gradiente de la funcion en el punto xk\n",
    "    grad = gradiente(f,xk)\n",
    "    #Verificamos que el gradiente se hace 0\n",
    "    for i in range(grad.size):\n",
    "        if grad[i] != 0:\n",
    "            cond1 = False\n",
    "    #Calculamos la Hessiana evaluada en xk\n",
    "    hess = hessiana(f,xk)\n",
    "    #Verificamos que la Hessiana es positiva definida\n",
    "    cond2 = positiva_definida(hess)\n",
    "    #Si se cumplen ambass condiciones podemos afirmar que xk es un minimo local\n",
    "    if cond1 and cond2:\n",
    "        resp = True\n",
    "    return resp"
   ]
  },
  {
   "cell_type": "markdown",
   "metadata": {},
   "source": [
    "## Definición de la Mk"
   ]
  },
  {
   "cell_type": "code",
   "execution_count": 206,
   "metadata": {},
   "outputs": [],
   "source": [
    "#f un función que recibe como parámetro un array de n variables\n",
    "#xk el punto sobre el cual se calcula la expansión de Taylor. Array de n dim.\n",
    "#p es la dirección tomada partiendo de xk. Array de n dim.\n",
    "def mk(f,xk,p):\n",
    "    return f(xk) + p.dot(gradiente(f,xk)) + 0.5*p.dot(hessiana(f,xk).dot(p))"
   ]
  },
  {
   "cell_type": "code",
   "execution_count": null,
   "metadata": {},
   "outputs": [],
   "source": []
  }
 ],
 "metadata": {
  "kernelspec": {
   "display_name": "Python 3",
   "language": "python",
   "name": "python3"
  },
  "language_info": {
   "codemirror_mode": {
    "name": "ipython",
    "version": 3
   },
   "file_extension": ".py",
   "mimetype": "text/x-python",
   "name": "python",
   "nbconvert_exporter": "python",
   "pygments_lexer": "ipython3",
   "version": "3.8.5"
  }
 },
 "nbformat": 4,
 "nbformat_minor": 4
}
