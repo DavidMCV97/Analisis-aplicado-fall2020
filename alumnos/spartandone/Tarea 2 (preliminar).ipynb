{
 "cells": [
  {
   "cell_type": "code",
   "execution_count": 1,
   "metadata": {},
   "outputs": [],
   "source": [
    "import numpy as np"
   ]
  },
  {
   "cell_type": "markdown",
   "metadata": {},
   "source": [
    "10.9.20"
   ]
  },
  {
   "cell_type": "code",
   "execution_count": 2,
   "metadata": {},
   "outputs": [],
   "source": [
    "#Función para ejemplos\n",
    "def g(x0):\n",
    "    return sum(x0**2+2*x0-5)\n",
    "\n",
    "x0 = np.array([4,2,5,2])"
   ]
  },
  {
   "cell_type": "markdown",
   "metadata": {},
   "source": [
    "### Gradiente"
   ]
  },
  {
   "cell_type": "code",
   "execution_count": 3,
   "metadata": {},
   "outputs": [],
   "source": [
    "def grad(f, x0):\n",
    "    n = x0.size\n",
    "    eps = 0.00001\n",
    "    res = np.zeros(n)\n",
    "    for i in range(n):\n",
    "        aux = np.zeros(n)\n",
    "        aux[i] = eps\n",
    "        x1 = x0 + aux\n",
    "        res[i] = (f(x1) - f(x0))/eps        \n",
    "    return res"
   ]
  },
  {
   "cell_type": "code",
   "execution_count": 4,
   "metadata": {},
   "outputs": [
    {
     "data": {
      "text/plain": [
       "array([10.00001,  6.00001, 12.00001,  6.00001])"
      ]
     },
     "execution_count": 4,
     "metadata": {},
     "output_type": "execute_result"
    }
   ],
   "source": [
    "grad(g,x0)"
   ]
  },
  {
   "cell_type": "markdown",
   "metadata": {},
   "source": [
    "### Hessiana\n",
    "En hess1 intenté hacer lo del siguiente link, pero no me quedaba: http://www2.math.umd.edu/~dlevy/classes/amsc466/lecture-notes/differentiation-chap.pdf.\n",
    "\n",
    "En hess, usé diferenciación como en: https://neos-guide.org/content/difference-approximations#:~:text=One%20method%20for%20approximating%20the,evaluated%20at%20two%20nearby%20points."
   ]
  },
  {
   "cell_type": "code",
   "execution_count": 5,
   "metadata": {},
   "outputs": [],
   "source": [
    "def hess1(f,x0):\n",
    "    n = x0.size\n",
    "    eps = 0.00001\n",
    "    res = np.zeros([n,n])\n",
    "    for i in range(n):\n",
    "        for j in range(i+1): #porque es simétrica, y entonces mejor res[j][i] = res[i][j]\n",
    "            aux1 = np.zeros(n)\n",
    "            aux2 = np.zeros(n)\n",
    "            #aux1 = aux2 no jala en numpy; mejor np.copy\n",
    "            aux1[i] = eps\n",
    "            aux2[j] = eps\n",
    "            xij = x0 + aux1 + aux2\n",
    "            xi = x0 + aux1\n",
    "            xj = x0 + aux2\n",
    "            res[i][j] = (f(xij) - f(xi) - f(xj) + f(x0))/(eps**2)\n",
    "            res[j][i] = res[i][j]\n",
    "    return res"
   ]
  },
  {
   "cell_type": "code",
   "execution_count": 6,
   "metadata": {},
   "outputs": [
    {
     "data": {
      "text/plain": [
       "array([[2.00010675e+00, 7.10542736e-05, 0.00000000e+00, 0.00000000e+00],\n",
       "       [7.10542736e-05, 2.00003569e+00, 0.00000000e+00, 0.00000000e+00],\n",
       "       [0.00000000e+00, 0.00000000e+00, 1.99996464e+00, 0.00000000e+00],\n",
       "       [0.00000000e+00, 0.00000000e+00, 0.00000000e+00, 2.00003569e+00]])"
      ]
     },
     "execution_count": 6,
     "metadata": {},
     "output_type": "execute_result"
    }
   ],
   "source": [
    "hess1(g,x0)"
   ]
  },
  {
   "cell_type": "code",
   "execution_count": 7,
   "metadata": {},
   "outputs": [],
   "source": [
    "def hess(f,x0):\n",
    "    n = x0.size\n",
    "    eps = 0.00001\n",
    "    res = np.zeros((n,n))\n",
    "    for i in range(n):\n",
    "        aux = np.zeros(n)\n",
    "        aux[i] = eps\n",
    "        x1 = x0 + aux\n",
    "        res[:,i] = (grad(f,x1)-grad(f,x0))/eps\n",
    "    return res"
   ]
  },
  {
   "cell_type": "code",
   "execution_count": 8,
   "metadata": {},
   "outputs": [
    {
     "data": {
      "text/plain": [
       "array([[2.00010675e+00, 7.10542736e-05, 0.00000000e+00, 0.00000000e+00],\n",
       "       [7.10542736e-05, 2.00003569e+00, 0.00000000e+00, 0.00000000e+00],\n",
       "       [0.00000000e+00, 0.00000000e+00, 1.99996464e+00, 0.00000000e+00],\n",
       "       [0.00000000e+00, 0.00000000e+00, 0.00000000e+00, 2.00003569e+00]])"
      ]
     },
     "execution_count": 8,
     "metadata": {},
     "output_type": "execute_result"
    }
   ],
   "source": [
    "hess(g,x0)"
   ]
  },
  {
   "cell_type": "markdown",
   "metadata": {},
   "source": [
    "### Condiciones de optimalidad\n",
    "Queremos checar los second orden necessary conditions, es decir,\n",
    "\n",
    "$∇f(x^*) = 0$\n",
    "\n",
    "$∇^2f(x^*)$ semidefinida positiva (para esto, lo más fácil es usar los eigenvalores)"
   ]
  },
  {
   "cell_type": "code",
   "execution_count": 9,
   "metadata": {},
   "outputs": [],
   "source": [
    "def condiciones_optimalidad(f,x0):\n",
    "    res = \"\"\n",
    "    if np.all(grad(f,x0) == 0):\n",
    "        res += \"Cumple con tener gradiente 0. \"\n",
    "    else:\n",
    "        res += \"No cumple con tener gradiente 0. \"\n",
    "    \n",
    "    eigs = np.linalg.eigvals(hess(f,x0))\n",
    "    if np.all(eigs > 0):\n",
    "        res += \"Cumple con tener Hessiana semidefinida.\"\n",
    "    else:\n",
    "        res += \"No cumple con tener Hessiana semidefinida.\"\n",
    "        \n",
    "    return res"
   ]
  },
  {
   "cell_type": "code",
   "execution_count": 10,
   "metadata": {},
   "outputs": [
    {
     "data": {
      "text/plain": [
       "'No cumple con tener gradiente 0. Cumple con tener Hessiana semidefinida.'"
      ]
     },
     "execution_count": 10,
     "metadata": {},
     "output_type": "execute_result"
    }
   ],
   "source": [
    "condiciones_optimalidad(g,x0)"
   ]
  },
  {
   "cell_type": "markdown",
   "metadata": {},
   "source": [
    "### Función de aproximación"
   ]
  },
  {
   "cell_type": "code",
   "execution_count": 11,
   "metadata": {},
   "outputs": [],
   "source": [
    "def mk (f,x0,p):\n",
    "    H = hess(f,x0)\n",
    "    G = grad(f,x0)\n",
    "    aux = np.dot(p.T,H)\n",
    "    return f(x0) + np.dot(p.T,G) + 0.5*np.dot(aux,p)"
   ]
  },
  {
   "cell_type": "markdown",
   "metadata": {},
   "source": [
    "### Ejemplo"
   ]
  },
  {
   "cell_type": "code",
   "execution_count": 12,
   "metadata": {},
   "outputs": [
    {
     "name": "stdout",
     "output_type": "stream",
     "text": [
      "[10.00001  6.00001 12.00001  6.00001]\n",
      "[[2.00010675e+00 7.10542736e-05 0.00000000e+00 0.00000000e+00]\n",
      " [7.10542736e-05 2.00003569e+00 0.00000000e+00 0.00000000e+00]\n",
      " [0.00000000e+00 0.00000000e+00 1.99996464e+00 0.00000000e+00]\n",
      " [0.00000000e+00 0.00000000e+00 0.00000000e+00 2.00003569e+00]]\n",
      "No cumple con tener gradiente 0. Cumple con tener Hessiana semidefinida.\n",
      "167.00049327868555\n"
     ]
    }
   ],
   "source": [
    "print(grad(g,x0))\n",
    "print(hess(g,x0))\n",
    "p = np.array([1,2,3,4])\n",
    "p = p.T\n",
    "print(condiciones_optimalidad(g,x0))\n",
    "print(mk(g,x0,p))"
   ]
  },
  {
   "cell_type": "code",
   "execution_count": null,
   "metadata": {},
   "outputs": [],
   "source": []
  },
  {
   "cell_type": "markdown",
   "metadata": {},
   "source": [
    "Tarea 11.10.20"
   ]
  },
  {
   "cell_type": "markdown",
   "metadata": {},
   "source": [
    "### Para encontrar $\\alpha$ (Algoritmo 3.1)"
   ]
  },
  {
   "cell_type": "code",
   "execution_count": 13,
   "metadata": {},
   "outputs": [],
   "source": [
    "def alfa(f,x0,p):\n",
    "    a_gorro = 1\n",
    "    ro = 0.8\n",
    "    c = 0.0001\n",
    "    alpha = a_gorro\n",
    "    while f(x0+alpha*p) > f(x0)+c*alpha*(grad(f,x0).T).dot(p):\n",
    "        alpha = ro*alpha\n",
    "        \n",
    "    return alpha"
   ]
  },
  {
   "cell_type": "markdown",
   "metadata": {},
   "source": [
    "### Método de Newton con modificación a la Hessiana (Algoritmo 3.2)"
   ]
  },
  {
   "cell_type": "code",
   "execution_count": 94,
   "metadata": {},
   "outputs": [],
   "source": [
    "def newton_mod(f,x0):\n",
    "    k = 1000\n",
    "    gamma = 0.01\n",
    "    \n",
    "    B0 = hess(f,x0)\n",
    "    eigs = np.linalg.eigvals(B0)  \n",
    "    \n",
    "    for i in range(k):\n",
    "        while not np.all(eigs > 0): #inicia while\n",
    "            B0 = hess(f,x0)+gamma\n",
    "            gamma = gamma + 0.01\n",
    "            eigs = np.linalg.eigvals(B0)\n",
    "        #terminó while\n",
    "        \n",
    "        p0 = -np.linalg.inv(B0).dot(grad(f,x0))        \n",
    "        alpha = alfa(f,x0,p0)\n",
    "        x0 = x0+alpha*p0\n",
    "        #print(f(x0)) (para ver si la función realmente decrece)\n",
    "        \n",
    "    return x0"
   ]
  },
  {
   "cell_type": "markdown",
   "metadata": {},
   "source": [
    "### Rosenbrock"
   ]
  },
  {
   "cell_type": "code",
   "execution_count": 90,
   "metadata": {},
   "outputs": [
    {
     "data": {
      "text/plain": [
       "0"
      ]
     },
     "execution_count": 90,
     "metadata": {},
     "output_type": "execute_result"
    }
   ],
   "source": [
    "def rosenbrock(x0):\n",
    "    a = 1\n",
    "    b = 100\n",
    "    return (a-x0[0])**2+b*(x0[1]-x0[0]**2)**2\n",
    "\n",
    "\n",
    "x0 = np.array([1,1])\n",
    "rosenbrock(x0)"
   ]
  },
  {
   "cell_type": "code",
   "execution_count": 95,
   "metadata": {},
   "outputs": [
    {
     "name": "stdout",
     "output_type": "stream",
     "text": [
      "5.021681388309363e-07\n"
     ]
    }
   ],
   "source": [
    "x0 = np.array([1,1])\n",
    "p = np.array([1,2])\n",
    "p = p.T\n",
    "alpha = alfa(rosenbrock,x0,p)\n",
    "print (alpha)"
   ]
  },
  {
   "cell_type": "code",
   "execution_count": 96,
   "metadata": {},
   "outputs": [
    {
     "name": "stdout",
     "output_type": "stream",
     "text": [
      "[ 23.7692788  564.97865316]\n"
     ]
    }
   ],
   "source": [
    "x0 = np.array([22,50])\n",
    "respuesta = newton_mod(rosenbrock,x0)\n",
    "print(respuesta)"
   ]
  },
  {
   "cell_type": "code",
   "execution_count": null,
   "metadata": {},
   "outputs": [],
   "source": []
  }
 ],
 "metadata": {
  "kernelspec": {
   "display_name": "Python 3",
   "language": "python",
   "name": "python3"
  },
  "language_info": {
   "codemirror_mode": {
    "name": "ipython",
    "version": 3
   },
   "file_extension": ".py",
   "mimetype": "text/x-python",
   "name": "python",
   "nbconvert_exporter": "python",
   "pygments_lexer": "ipython3",
   "version": "3.8.5"
  }
 },
 "nbformat": 4,
 "nbformat_minor": 4
}
