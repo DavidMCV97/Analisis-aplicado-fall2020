{
 "metadata": {
  "language_info": {
   "codemirror_mode": {
    "name": "ipython",
    "version": 3
   },
   "file_extension": ".py",
   "mimetype": "text/x-python",
   "name": "python",
   "nbconvert_exporter": "python",
   "pygments_lexer": "ipython3",
   "version": "3.8.5-final"
  },
  "orig_nbformat": 2,
  "kernelspec": {
   "name": "python_defaultSpec_1600653260675",
   "display_name": "Python 3.8.5 64-bit"
  }
 },
 "nbformat": 4,
 "nbformat_minor": 2,
 "cells": [
  {
   "cell_type": "code",
   "execution_count": 29,
   "metadata": {},
   "outputs": [],
   "source": [
    "import numpy as np"
   ]
  },
  {
   "cell_type": "code",
   "execution_count": 30,
   "metadata": {},
   "outputs": [],
   "source": [
    "def gradiente(f, xk):\n",
    "    n=xk.size\n",
    "    eps=10e-8\n",
    "    res = np.zeros(n)\n",
    "    x0 = np.array(xk)\n",
    "    xh = np.array(xk)\n",
    "    for i in range(n):\n",
    "        xh[i] += eps\n",
    "        res[i] = (f(xh)-f(x0))/eps\n",
    "        xh[i] -= eps\n",
    "    return res"
   ]
  },
  {
   "cell_type": "code",
   "execution_count": 31,
   "metadata": {
    "tags": []
   },
   "outputs": [],
   "source": [
    "def hessiana(f, xk):\n",
    "    n = xk.size\n",
    "    eps = 10e-8\n",
    "    res = np.zeros([n,n])\n",
    "    for i in range(n):\n",
    "        xh = np.array(xk)\n",
    "        xh[i] += eps\n",
    "        gx0 = np.array(gradiente(f,xk), dtype=float)\n",
    "        gxh = np.array(gradiente(f,xh), dtype=float)\n",
    "        res[:,i] = (gxh - gx0)/eps\n",
    "    return res"
   ]
  },
  {
   "cell_type": "code",
   "execution_count": 32,
   "metadata": {
    "tags": []
   },
   "outputs": [],
   "source": [
    "def condiciones_optimalidad(f, xk):\n",
    "    if all(i<10e-3 for i in gradiente(f,xk)) and all(j>-10e-3 for j in np.linalg.eigvalsh(hessiana(f,xk))):\n",
    "        return True\n",
    "    else:\n",
    "        return False       "
   ]
  },
  {
   "cell_type": "code",
   "execution_count": 45,
   "metadata": {
    "tags": []
   },
   "outputs": [],
   "source": [
    "def mk(f, xk, p):\n",
    "    H = hessiana(f, xk)\n",
    "    G = gradiente(f, xk).T\n",
    "    return f(xk) + np.dot(p.T,G) + np.dot(np.dot(p.T,H),p)/2\n"
   ]
  },
  {
   "cell_type": "code",
   "execution_count": 46,
   "metadata": {
    "tags": []
   },
   "outputs": [
    {
     "output_type": "stream",
     "name": "stdout",
     "text": "Gradiente: \n [  24.00000085   64.0000053  -450.00001023]\nHessiana: \n [[   0.          -11.36868377    0.        ]\n [ -11.36868377   79.58078641  -11.36868377]\n [ -11.36868377  -11.36868377 -181.89894035]]\n¿Es Optimo? \n False\nMK: \n 2150.701234658278\n"
    }
   ],
   "source": [
    "#Ejemplo 1\n",
    "def f(xk):\n",
    "    return 3*xk[0]**2 + 2*xk[1]**4 - 6*xk[2]**3-4;\n",
    "xk = np.array([4,2,5], dtype=float)\n",
    "p = np.array([3,10,2],dtype = float).T\n",
    "\n",
    "print(\"Gradiente: \\n\", gradiente(f,xk))\n",
    "print(\"Hessiana: \\n\", hessiana(f, xk))\n",
    "print(\"¿Es Optimo? \\n\", condiciones_optimalidad(f,xk))\n",
    "print(\"MK: \\n\", mk(f, xk, p))"
   ]
  },
  {
   "cell_type": "code",
   "execution_count": 40,
   "metadata": {
    "tags": []
   },
   "outputs": [
    {
     "output_type": "stream",
     "name": "stdout",
     "text": "Gradiente: \n [4.0100004e-05 1.0000000e-05]\nHessiana: \n [[ 802.00024074 -400.00002045]\n [-400.00002045  200.00000023]]\n¿Es Optimo? \n True\nMK: \n 32500.012049680507\n"
    }
   ],
   "source": [
    "#Ejemplo 2\n",
    "def f(xk):\n",
    "    return 100*(xk[1]-xk[0]**2)**2+(1-xk[0])**2\n",
    "xk = np.array([1,1],dtype=float)\n",
    "p = np.array([10,2], dtype=float).T\n",
    "\n",
    "print(\"Gradiente: \\n\", gradiente(f,xk))\n",
    "print(\"Hessiana: \\n\", hessiana(f, xk))\n",
    "print(\"¿Es Optimo? \\n\", condiciones_optimalidad(f,xk))\n",
    "print(\"MK: \\n\", mk(f, xk, p))"
   ]
  },
  {
   "cell_type": "code",
   "execution_count": null,
   "metadata": {},
   "outputs": [],
   "source": []
  }
 ]
}