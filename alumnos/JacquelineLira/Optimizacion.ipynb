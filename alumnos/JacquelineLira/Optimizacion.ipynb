{
 "cells": [
  {
   "cell_type": "code",
   "execution_count": 2,
   "metadata": {},
   "outputs": [],
   "source": [
    "import numpy as np\n",
    "import sys"
   ]
  },
  {
   "cell_type": "code",
   "execution_count": 3,
   "metadata": {},
   "outputs": [],
   "source": [
    "def check_optimality(grad, hess): \n",
    "    if(np.all(abs(grad) <= eps)):\n",
    "        try:\n",
    "            np.linalg.cholesky(hess)\n",
    "        except np.linalg.LinAlgError as err:\n",
    "            return False\n",
    "        return True\n",
    "    return False"
   ]
  },
  {
   "cell_type": "code",
   "execution_count": 4,
   "metadata": {},
   "outputs": [],
   "source": [
    "def grad(f, x0):\n",
    "    size = len(x0)\n",
    "    gradient = np.zeros(size)\n",
    "    for i in range(size):\n",
    "        xi = np.zeros(size) + x0\n",
    "        xi[i] += eps\n",
    "        gradient[i] = (f(xi) - f(x0)) / eps\n",
    "    return gradient"
   ]
  },
  {
   "cell_type": "code",
   "execution_count": 5,
   "metadata": {},
   "outputs": [],
   "source": [
    "def hess(f, x0): #\n",
    "    size = len(x0)\n",
    "    hessian = np.zeros((size, size))\n",
    "    for i in range(size):\n",
    "        dxi = np.zeros(size) + x0\n",
    "        dxi[i]+=eps\n",
    "        for j in range(size):\n",
    "            hess = (grad(f, dxi)[j] - grad(f, x0)[j]) / eps\n",
    "            hessian[i, j] = hess\n",
    "    return hessian"
   ]
  },
  {
   "cell_type": "code",
   "execution_count": 6,
   "metadata": {},
   "outputs": [],
   "source": [
    "def f(x0):\n",
    "    return np.sqrt(sum(x0**2))"
   ]
  },
  {
   "cell_type": "code",
   "execution_count": 7,
   "metadata": {},
   "outputs": [],
   "source": [
    "def f(x0):\n",
    "    return x0.item(0)**4 - 2 * x0.item(1) ** 2 + x0.item(2) * x0.item(3)"
   ]
  },
  {
   "cell_type": "code",
   "execution_count": 8,
   "metadata": {},
   "outputs": [],
   "source": [
    "#Variables globales\n",
    "x0 = np.array([4, 2, 5, 2])\n",
    "x0 = np.array([1, 2, 3, 4])\n",
    "#eps = sys.float_info.epsilon\n",
    "eps = 1e-6"
   ]
  },
  {
   "cell_type": "code",
   "execution_count": 9,
   "metadata": {},
   "outputs": [
    {
     "name": "stdout",
     "output_type": "stream",
     "text": [
      "[[ 1.20010668e+01  0.00000000e+00  0.00000000e+00  0.00000000e+00]\n",
      " [ 0.00000000e+00 -4.00035560e+00  0.00000000e+00  0.00000000e+00]\n",
      " [ 0.00000000e+00  0.00000000e+00  0.00000000e+00  1.00008890e+00]\n",
      " [ 0.00000000e+00  0.00000000e+00  1.00008890e+00  1.77635684e-03]]\n",
      "[ 4.000006 -8.000002  4.        3.      ]\n"
     ]
    }
   ],
   "source": [
    "print(hess(f, x0))\n",
    "print(grad(f, x0))"
   ]
  },
  {
   "cell_type": "code",
   "execution_count": 10,
   "metadata": {},
   "outputs": [
    {
     "data": {
      "text/plain": [
       "False"
      ]
     },
     "execution_count": 10,
     "metadata": {},
     "output_type": "execute_result"
    }
   ],
   "source": [
    "check_optimality(grad(f, x0), hess(f, x0))"
   ]
  },
  {
   "cell_type": "code",
   "execution_count": null,
   "metadata": {},
   "outputs": [],
   "source": []
  }
 ],
 "metadata": {
  "kernelspec": {
   "display_name": "Python 3",
   "language": "python",
   "name": "python3"
  },
  "language_info": {
   "codemirror_mode": {
    "name": "ipython",
    "version": 3
   },
   "file_extension": ".py",
   "mimetype": "text/x-python",
   "name": "python",
   "nbconvert_exporter": "python",
   "pygments_lexer": "ipython3",
   "version": "3.8.5"
  }
 },
 "nbformat": 4,
 "nbformat_minor": 4
}
