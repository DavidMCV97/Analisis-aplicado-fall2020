{
 "cells": [
  {
   "cell_type": "code",
   "execution_count": 1,
   "metadata": {},
   "outputs": [],
   "source": [
    "import numpy as np\n",
    "eps = 1e-3"
   ]
  },
  {
   "cell_type": "code",
   "execution_count": 2,
   "metadata": {},
   "outputs": [],
   "source": [
    "def gradiente(f,xk):\n",
    "    # Código que calcula el gradiente de la \n",
    "    # función f en el punto xk.\n",
    "    size = len(xk)\n",
    "    grad = np.zeros(size)\n",
    "    for i in range(size):\n",
    "        # Derivada mediante diferencia central\n",
    "        x_f = xk.copy(); x_f[i] += eps\n",
    "        x_b = xk.copy(); x_b[i] -= eps\n",
    "        grad[i] = (f(x_f) - f(x_b)) / (2 * eps)\n",
    "    return grad"
   ]
  },
  {
   "cell_type": "code",
   "execution_count": 3,
   "metadata": {},
   "outputs": [],
   "source": [
    "def hessiana(f,xk):\n",
    "    # Código que calcula la hessiana\n",
    "    size = len(xk)\n",
    "    hess = np.zeros((size, size))\n",
    "    for j in range(size):\n",
    "        # Segunda derivada\n",
    "        dx_ff = xk.copy(); dx_ff[j] += eps;\n",
    "        dx_bb = xk.copy(); dx_ff[j] += eps;\n",
    "        grad_f = gradiente(f, dx_ff)\n",
    "        grad_b = gradiente(f, dx_bb)\n",
    "        for i in range(size):\n",
    "            # Primera derivada\n",
    "            hess[i, j] = (grad_f[i] - grad_b[i]) / (2 * eps)\n",
    "    return hess"
   ]
  },
  {
   "cell_type": "code",
   "execution_count": 4,
   "metadata": {},
   "outputs": [],
   "source": [
    "def condiciones_optimalidad(f,xk):\n",
    "    # Código que regresa si el punto xk cumple \n",
    "    # con las condiciones de optimalidad\n",
    "    grad = gradiente(f, xk)\n",
    "    hess = hessiana(f, xk)\n",
    "    # calculamos si el gradiente es 0\n",
    "    if np.allclose(grad, 0, rtol = eps, atol = eps) :\n",
    "        #Calculamos si es semipositiva definida\n",
    "        \"\"\"\n",
    "        Solo funciona si se busca pos-def\n",
    "        try:\n",
    "            np.linalg.cholesky(hess)\n",
    "        except: pass\n",
    "        \"\"\"\n",
    "        eig_val, eig_vec = np.linalg.eig(hess)\n",
    "        if(np.all(eig_val) >= 0):\n",
    "            return True\n",
    "    return False"
   ]
  },
  {
   "cell_type": "code",
   "execution_count": 5,
   "metadata": {},
   "outputs": [],
   "source": [
    "def mk(f,xk):\n",
    "    # Código que genera la función de aproximación\n",
    "    # mk para el algoritmo de Región de confianza.\n",
    "    grad = gradiente(f, xk)\n",
    "    hess = hessiana(f, xk)\n",
    "    # p = - np.linalg.inv(hess) @ grad # Solo funciona si hess es pos-def\n",
    "    if (np.all(grad) == 0):\n",
    "        p = np.zeros(len(grad))\n",
    "    else:\n",
    "        p = - eps * grad / np.linalg.norm(grad)\n",
    "    return f(xk) + p.T @ grad + 0.5 * (p.T @ hess) @ p"
   ]
  },
  {
   "cell_type": "code",
   "execution_count": 6,
   "metadata": {},
   "outputs": [],
   "source": [
    "#Función a probar\n",
    "def f(x):\n",
    "    #(x1 + x2 + ... + xn)^2\n",
    "    return pow(np.sum(x),2)\n",
    "\n",
    "# Gradiente de la función\n",
    "def df(x):\n",
    "    # 2 * (x1 + x2 + ... + xn)\n",
    "    df = 2 * np.sum(x) * np.ones(len(x))\n",
    "    return df\n",
    "\n",
    "# Hessiana de la función\n",
    "def dff(x):\n",
    "    # [[2, ..., 2],...,[2, ..., 2]]\n",
    "    size = len(x)\n",
    "    dff = 2 * np.ones((size, size))\n",
    "    return dff"
   ]
  },
  {
   "cell_type": "code",
   "execution_count": 7,
   "metadata": {},
   "outputs": [
    {
     "name": "stdout",
     "output_type": "stream",
     "text": [
      "f(x): 100.0\n",
      "Gradiente: [20. 20. 20. 20.]\n",
      "Hessiana:\n",
      "[[2.00000001 2.00000001 2.         2.        ]\n",
      " [2.00000001 2.00000001 2.         2.        ]\n",
      " [2.         2.         1.99999999 1.99999999]\n",
      " [2.00000001 2.00000001 2.         2.00000001]]\n",
      "Optimalidad: False\n",
      "Mk: 99.96000400000001\n"
     ]
    }
   ],
   "source": [
    "# Prueba\n",
    "# xk = np.array([-2.0, 2.0, -1.0, 1.0])\n",
    "# xk = np.array([0.0, 0.0, 0.0, 0.0])\n",
    "xk = np.array([2.0, 1.0, 4.0, 3.0])\n",
    "print(\"f(x):\",f(xk))\n",
    "\n",
    "# Calculamos la gradiente y comprobamos\n",
    "grad = gradiente(f, xk)\n",
    "grad_true = df(xk)\n",
    "print(\"Gradiente:\", grad)\n",
    "#print(np.isclose(grad, grad_true, rtol = eps, atol = eps))\n",
    "\n",
    "# Calculamos la hessiana y comprobamos\n",
    "hess = hessiana(f, xk)\n",
    "hess_true = dff(xk)\n",
    "print(\"Hessiana:\", hess, sep='\\n')\n",
    "# print(np.isclose(hess, hess_true, rtol = eps**(1/2), atol = eps**(1/2)))\n",
    "\n",
    "# Vemos si cumple con las condiciones de optimalidad\n",
    "print(\"Optimalidad:\", condiciones_optimalidad(f,xk))\n",
    "\n",
    "# Calculamos mk\n",
    "print(\"Mk:\",mk(f, xk))"
   ]
  },
  {
   "cell_type": "code",
   "execution_count": null,
   "metadata": {},
   "outputs": [],
   "source": []
  }
 ],
 "metadata": {
  "kernelspec": {
   "display_name": "Python 3",
   "language": "python",
   "name": "python3"
  },
  "language_info": {
   "codemirror_mode": {
    "name": "ipython",
    "version": 3
   },
   "file_extension": ".py",
   "mimetype": "text/x-python",
   "name": "python",
   "nbconvert_exporter": "python",
   "pygments_lexer": "ipython3",
   "version": "3.8.5"
  }
 },
 "nbformat": 4,
 "nbformat_minor": 4
}
