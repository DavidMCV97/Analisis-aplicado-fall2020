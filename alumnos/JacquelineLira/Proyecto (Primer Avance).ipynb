{
 "cells": [
  {
   "cell_type": "markdown",
   "metadata": {},
   "source": [
    "# Proyecto Análisis Aplicado\n",
    "Jacqueline Lira Chávez **167334**  \n",
    "\n",
    "El objetivo de este proyecto es implementar el algoritmo de Búsqueda Lineal de Newton con Modificación a la Hessiana"
   ]
  },
  {
   "cell_type": "markdown",
   "metadata": {},
   "source": [
    "## Código"
   ]
  },
  {
   "cell_type": "markdown",
   "metadata": {},
   "source": [
    "#### Imports"
   ]
  },
  {
   "cell_type": "code",
   "execution_count": 1,
   "metadata": {},
   "outputs": [],
   "source": [
    "import numpy as np\n",
    "from random import random\n",
    "from IPython.display import display, Math"
   ]
  },
  {
   "cell_type": "markdown",
   "metadata": {},
   "source": [
    "#### Gradiente\n",
    "Código que calcula el gradiente de la función f en el punto xk utilizando la derivada mediante la diferencia central.\n",
    "$$f'(x_k) = \\frac{f(x_k+k)-f(x_k-k)}{2k}$$"
   ]
  },
  {
   "cell_type": "code",
   "execution_count": 2,
   "metadata": {},
   "outputs": [],
   "source": [
    "# Calcu\n",
    "def gradiente(f, xk, eps = 1e-6):\n",
    "    size = len(xk)\n",
    "    grad = np.zeros(size)\n",
    "    for i in range(size):\n",
    "        x_f = xk.copy(); x_f[i] += eps\n",
    "        x_b = xk.copy(); x_b[i] -= eps\n",
    "        grad[i] = (f(x_f) - f(x_b)) / (2 * eps)\n",
    "    return grad"
   ]
  },
  {
   "cell_type": "markdown",
   "metadata": {},
   "source": [
    "#### Hessiana\n",
    "Código que calcula el hessiana de la función f en el punto $x_k$ utilizando la derivada mediante la diferencia \n",
    "central, utilizando la función gradiente. $$f''(x_k) = \\frac{f'(x_k+h)-f'(x_k-h)}{2h}$$"
   ]
  },
  {
   "cell_type": "code",
   "execution_count": 3,
   "metadata": {},
   "outputs": [],
   "source": [
    "def hessiana(f,xk, eps = 1e-3):\n",
    "    size = len(xk)\n",
    "    hess = np.zeros((size, size))\n",
    "    for j in range(size):\n",
    "        # Primera derivada\n",
    "        dx_ff = xk.copy(); dx_ff[j] += eps;\n",
    "        dx_bb = xk.copy(); dx_ff[j] += eps;\n",
    "        grad_f = gradiente(f, dx_ff)\n",
    "        grad_b = gradiente(f, dx_bb)\n",
    "        for i in range(j+1):\n",
    "            # Segunda derivada\n",
    "            hess[i, j] = (grad_f[i] - grad_b[i]) / (2 * eps)\n",
    "            hess[j, i] = (grad_f[i] - grad_b[i]) / (2 * eps)\n",
    "    return hess"
   ]
  },
  {
   "cell_type": "markdown",
   "metadata": {},
   "source": [
    "#### Backtracking Line Search (Algoritmo 3.1)\n",
    "Algoritmo que determina la cantidad a moverse dentro de una dirección de búsqueda.\n",
    "Notamos que para métodos quasi Newton se útiliza el valor inicial $\\alpha_0 = 1$"
   ]
  },
  {
   "cell_type": "code",
   "execution_count": 4,
   "metadata": {},
   "outputs": [],
   "source": [
    "def BLS(f, xk, alpha_0, pk, c):\n",
    "    alpha = alpha_0\n",
    "    while f(xk + alpha * pk) > f(xk) + c * alpha * gradiente(f, xk) @ pk:\n",
    "        p = random()\n",
    "        alpha = p * alpha\n",
    "    return alpha"
   ]
  },
  {
   "cell_type": "markdown",
   "metadata": {},
   "source": [
    "#### Cholesky with Added Múltiple of the Identity (Algoritmo 3.3)\n",
    "Buscamos $\\tau$ de tal forma que la matriz $A + \\tau I$ es positiva semidefinida, por lo que iterativamente se va aumentando $\\tau$ hasta que se cumpla"
   ]
  },
  {
   "cell_type": "code",
   "execution_count": 5,
   "metadata": {},
   "outputs": [],
   "source": [
    "def CAMI(A):\n",
    "    beta = 0.001\n",
    "    n = len(A)\n",
    "    if min(np.diag(A)) > 0:\n",
    "        t = 0\n",
    "    else:\n",
    "        t = -min(np.diag(A)) + beta\n",
    "    for k in range(100):\n",
    "        try:\n",
    "            np.linalg.cholesky(A + t * np.identity(n))\n",
    "        except np.linalg.LinAlgError as err:\n",
    "            t = max(2 * t, beta)\n",
    "        else:\n",
    "            break\n",
    "    return A + t * np.identity(n)"
   ]
  },
  {
   "cell_type": "markdown",
   "metadata": {},
   "source": [
    "#### Line Search Newton with Modification (Algoritmo 3.2)\n",
    "Se le hace una modificación al algoritmo de Newton para que se puede utilizar aunque la matriz hessiana no sea semipositiva definida."
   ]
  },
  {
   "cell_type": "code",
   "execution_count": 6,
   "metadata": {},
   "outputs": [],
   "source": [
    "def LSNM(f, xk):\n",
    "    for k in range(100):\n",
    "        Bk = hessiana(f, xk)\n",
    "        # Calculamos si es semipositiva definida\n",
    "        try:\n",
    "            np.linalg.cholesky(Bk)\n",
    "        except np.linalg.LinAlgError as err:\n",
    "            # Si no lo es, la convertimos en matriz semipositiva\n",
    "            Bk = CAMI(Bk)   \n",
    "        # Aplicamos el método de Newton\n",
    "        pk = np.linalg.solve(Bk, - gradiente(f, xk))\n",
    "        xk = xk + BLS(f, xk, 1, pk, 0.5) * pk\n",
    "    return xk"
   ]
  },
  {
   "cell_type": "markdown",
   "metadata": {},
   "source": [
    "## Pruebas\n",
    "Para probar nuestro algoritmo utilizamos la función de Rosenbrock definida como $f(x,y)=(a-x)^2+b(y-x^2)^2$, que tiene un mínimo local en $(a,a^2)$, con diversos valores para $a$ y $b$ y puntos iniciales $(x,y)$"
   ]
  },
  {
   "cell_type": "markdown",
   "metadata": {},
   "source": [
    "#### Función de Rosenbrock"
   ]
  },
  {
   "cell_type": "code",
   "execution_count": 7,
   "metadata": {},
   "outputs": [],
   "source": [
    "def Rosenbrock(x, a = 1, b = 100):\n",
    "    return (a - x[0])**2 + b * (x[1] - x[0]**2)**2"
   ]
  },
  {
   "cell_type": "markdown",
   "metadata": {},
   "source": [
    "##### Prueba 1\n",
    "$(a,b) = (1, 100)$\n",
    "\n",
    "$x = (0.9, 1.1)$\n",
    "\n",
    "Primero probamos con un valor cercano al verdadero."
   ]
  },
  {
   "cell_type": "code",
   "execution_count": 8,
   "metadata": {},
   "outputs": [
    {
     "data": {
      "text/latex": [
       "$\\displaystyle x: [0.9,1.1]$"
      ],
      "text/plain": [
       "<IPython.core.display.Math object>"
      ]
     },
     "metadata": {},
     "output_type": "display_data"
    },
    {
     "data": {
      "text/latex": [
       "$\\displaystyle f(x): 8.420000000000002$"
      ],
      "text/plain": [
       "<IPython.core.display.Math object>"
      ]
     },
     "metadata": {},
     "output_type": "display_data"
    },
    {
     "data": {
      "text/latex": [
       "$\\displaystyle x_0: [1.0000000001990559,1.0000000003981206]$"
      ],
      "text/plain": [
       "<IPython.core.display.Math object>"
      ]
     },
     "metadata": {},
     "output_type": "display_data"
    },
    {
     "data": {
      "text/latex": [
       "$\\displaystyle f(x_0): 3.9623252400903537e-20$"
      ],
      "text/plain": [
       "<IPython.core.display.Math object>"
      ]
     },
     "metadata": {},
     "output_type": "display_data"
    }
   ],
   "source": [
    "np.set_printoptions(formatter={'float': lambda x: \"{0:0.3f}\".format(x)})\n",
    "\n",
    "x = np.array([0.9, 1.1])\n",
    "display(Math('x: [{},{}]'.format(x[0],x[1])))\n",
    "f_x = Rosenbrock(x)\n",
    "display(Math('f(x): {}'.format(f_x)))\n",
    "x_aprox = LSNM(Rosenbrock, x)\n",
    "display(Math('x_0: [{},{}]'.format(x_aprox[0],x_aprox[1])))\n",
    "f_x_aprox = Rosenbrock(x_aprox)\n",
    "display(Math('f(x_0): {}'.format(f_x_aprox)))"
   ]
  },
  {
   "cell_type": "markdown",
   "metadata": {},
   "source": [
    "##### Prueba 2\n",
    "$(a,b) = (1, 100)$\n",
    "\n",
    "$(x,y) = (8, -4)$  \n",
    "\n",
    "Utilizamos un vector más alejado del óptimo, en dónde también podemos ver que funcione correctamente el algoritmo de Cholesky con Identidad Múltiple Agregada"
   ]
  },
  {
   "cell_type": "code",
   "execution_count": 9,
   "metadata": {},
   "outputs": [
    {
     "data": {
      "text/latex": [
       "$\\displaystyle x: [8,-4]$"
      ],
      "text/plain": [
       "<IPython.core.display.Math object>"
      ]
     },
     "metadata": {},
     "output_type": "display_data"
    },
    {
     "data": {
      "text/latex": [
       "$\\displaystyle f(x): 462449$"
      ],
      "text/plain": [
       "<IPython.core.display.Math object>"
      ]
     },
     "metadata": {},
     "output_type": "display_data"
    },
    {
     "data": {
      "text/latex": [
       "$\\displaystyle x_0: [1.0000000001997262,1.0000000003994538]$"
      ],
      "text/plain": [
       "<IPython.core.display.Math object>"
      ]
     },
     "metadata": {},
     "output_type": "display_data"
    },
    {
     "data": {
      "text/latex": [
       "$\\displaystyle f(x_0): 3.989056934454833e-20$"
      ],
      "text/plain": [
       "<IPython.core.display.Math object>"
      ]
     },
     "metadata": {},
     "output_type": "display_data"
    }
   ],
   "source": [
    "x = np.array([8, -4])\n",
    "display(Math('x: [{},{}]'.format(x[0],x[1])))\n",
    "f_x = Rosenbrock(x)\n",
    "display(Math('f(x): {}'.format(f_x)))\n",
    "x_aprox = LSNM(Rosenbrock, x)\n",
    "display(Math('x_0: [{},{}]'.format(x_aprox[0],x_aprox[1])))\n",
    "f_x_aprox = Rosenbrock(x_aprox)\n",
    "display(Math('f(x_0): {}'.format(f_x_aprox)))"
   ]
  },
  {
   "cell_type": "markdown",
   "metadata": {},
   "source": [
    "##### Prueba 3\n",
    "$(a,b) = (2, 100)$\n",
    "\n",
    "$(x,y) = (8, -4)$  \n",
    "\n",
    "Probamos para un valor diferente de $a$, lo cuál cambia el óptimo"
   ]
  },
  {
   "cell_type": "code",
   "execution_count": 10,
   "metadata": {},
   "outputs": [
    {
     "data": {
      "text/latex": [
       "$\\displaystyle x: [8,-4]$"
      ],
      "text/plain": [
       "<IPython.core.display.Math object>"
      ]
     },
     "metadata": {},
     "output_type": "display_data"
    },
    {
     "data": {
      "text/latex": [
       "$\\displaystyle f(x): 231236$"
      ],
      "text/plain": [
       "<IPython.core.display.Math object>"
      ]
     },
     "metadata": {},
     "output_type": "display_data"
    },
    {
     "data": {
      "text/latex": [
       "$\\displaystyle x_0: [2.000000000199124,4.000000000796515]$"
      ],
      "text/plain": [
       "<IPython.core.display.Math object>"
      ]
     },
     "metadata": {},
     "output_type": "display_data"
    },
    {
     "data": {
      "text/latex": [
       "$\\displaystyle f(x_0): 3.965031818168242e-20$"
      ],
      "text/plain": [
       "<IPython.core.display.Math object>"
      ]
     },
     "metadata": {},
     "output_type": "display_data"
    }
   ],
   "source": [
    "def Rosenbrock_2(x, a = 2, b = 50):\n",
    "    return (a - x[0])**2 + b * (x[1] - x[0]**2)**2\n",
    "\n",
    "x = np.array([8, -4])\n",
    "display(Math('x: [{},{}]'.format(x[0],x[1])))\n",
    "f_x = Rosenbrock_2(x)\n",
    "display(Math('f(x): {}'.format(f_x)))\n",
    "x_aprox = LSNM(Rosenbrock_2, x)\n",
    "display(Math('x_0: [{},{}]'.format(x_aprox[0],x_aprox[1])))\n",
    "f_x_aprox = Rosenbrock_2(x_aprox)\n",
    "display(Math('f(x_0): {}'.format(f_x_aprox)))"
   ]
  },
  {
   "cell_type": "markdown",
   "metadata": {},
   "source": [
    "##### Prueba 4\n",
    "$(a,b) = (2, 5)$\n",
    "\n",
    "$(x,y) = (8, -4)$  \n",
    "\n",
    "Cambiamos el valor de $b$, que no afecta el mínimo global"
   ]
  },
  {
   "cell_type": "code",
   "execution_count": 12,
   "metadata": {},
   "outputs": [
    {
     "data": {
      "text/latex": [
       "$\\displaystyle x: [8,-4]$"
      ],
      "text/plain": [
       "<IPython.core.display.Math object>"
      ]
     },
     "metadata": {},
     "output_type": "display_data"
    },
    {
     "data": {
      "text/latex": [
       "$\\displaystyle f(x): 23156$"
      ],
      "text/plain": [
       "<IPython.core.display.Math object>"
      ]
     },
     "metadata": {},
     "output_type": "display_data"
    },
    {
     "data": {
      "text/latex": [
       "$\\displaystyle x_0: [2.000000000019541,4.0000000000782014]$"
      ],
      "text/plain": [
       "<IPython.core.display.Math object>"
      ]
     },
     "metadata": {},
     "output_type": "display_data"
    },
    {
     "data": {
      "text/latex": [
       "$\\displaystyle f(x_0): 3.818506818147291e-22$"
      ],
      "text/plain": [
       "<IPython.core.display.Math object>"
      ]
     },
     "metadata": {},
     "output_type": "display_data"
    }
   ],
   "source": [
    "def Rosenbrock_3(x, a = 2, b = 5):\n",
    "    return (a - x[0])**2 + b * (x[1] - x[0]**2)**2\n",
    "\n",
    "x = np.array([8, -4])\n",
    "display(Math('x: [{},{}]'.format(x[0],x[1])))\n",
    "f_x = Rosenbrock_3(x)\n",
    "display(Math('f(x): {}'.format(f_x)))\n",
    "x_aprox = LSNM(Rosenbrock_3, x)\n",
    "display(Math('x_0: [{},{}]'.format(x_aprox[0],x_aprox[1])))\n",
    "f_x_aprox = Rosenbrock_3(x_aprox)\n",
    "display(Math('f(x_0): {}'.format(f_x_aprox)))"
   ]
  },
  {
   "cell_type": "code",
   "execution_count": null,
   "metadata": {},
   "outputs": [],
   "source": []
  }
 ],
 "metadata": {
  "kernelspec": {
   "display_name": "Python 3",
   "language": "python",
   "name": "python3"
  },
  "language_info": {
   "codemirror_mode": {
    "name": "ipython",
    "version": 3
   },
   "file_extension": ".py",
   "mimetype": "text/x-python",
   "name": "python",
   "nbconvert_exporter": "python",
   "pygments_lexer": "ipython3",
   "version": "3.8.5"
  }
 },
 "nbformat": 4,
 "nbformat_minor": 4
}
