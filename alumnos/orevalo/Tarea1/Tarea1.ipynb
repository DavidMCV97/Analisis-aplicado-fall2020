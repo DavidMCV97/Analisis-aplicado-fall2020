{
 "cells": [
  {
   "cell_type": "code",
   "execution_count": 1,
   "metadata": {},
   "outputs": [
    {
     "ename": "IndentationError",
     "evalue": "expected an indented block (<ipython-input-1-69a7def13287>, line 6)",
     "output_type": "error",
     "traceback": [
      "\u001b[0;36m  File \u001b[0;32m\"<ipython-input-1-69a7def13287>\"\u001b[0;36m, line \u001b[0;32m6\u001b[0m\n\u001b[0;31m    def hessiana(f,xk):\u001b[0m\n\u001b[0m    ^\u001b[0m\n\u001b[0;31mIndentationError\u001b[0m\u001b[0;31m:\u001b[0m expected an indented block\n"
     ]
    }
   ],
   "source": [
    "def gradiente(f,xk):\n",
    "    # Código que calcula el gradiente de la \n",
    "    # función f en el punto xk. \n",
    "\n",
    "\n",
    "def hessiana(f,xk):\n",
    "    # Código que calcula la hessiana\n",
    "\n",
    "def condiciones_optimalidad(f,xk):\n",
    "    # Código que regresa si el punto xk cumple \n",
    "    # con las condiciones de optimalidad\n",
    "\n",
    "def mk(f,xk):\n",
    "    # Código que genera la función de aproximación\n",
    "    # mk que vimos en clase para el algoritmo de \n",
    "    # Región de confianza."
   ]
  },
  {
   "cell_type": "code",
   "execution_count": null,
   "metadata": {},
   "outputs": [],
   "source": []
  }
 ],
 "metadata": {
  "kernelspec": {
   "display_name": "Python 3",
   "language": "python",
   "name": "python3"
  },
  "language_info": {
   "codemirror_mode": {
    "name": "ipython",
    "version": 3
   },
   "file_extension": ".py",
   "mimetype": "text/x-python",
   "name": "python",
   "nbconvert_exporter": "python",
   "pygments_lexer": "ipython3",
   "version": "3.8.5"
  }
 },
 "nbformat": 4,
 "nbformat_minor": 4
}
