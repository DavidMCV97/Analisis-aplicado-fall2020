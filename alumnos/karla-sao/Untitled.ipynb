{
 "cells": [
  {
   "cell_type": "code",
   "execution_count": 100,
   "metadata": {},
   "outputs": [],
   "source": [
    "import numpy as np"
   ]
  },
  {
   "cell_type": "code",
   "execution_count": 102,
   "metadata": {},
   "outputs": [],
   "source": [
    "#Calcula el gradiente de una funcion f en el punto x0\n",
    "\n",
    "#f es una funcion\n",
    "#x0 es el punto donde se va a evaluar la funcion\n",
    "\n",
    "def grad(f, x0):  \n",
    "    n = x0.size\n",
    "    gradiente = np.zeros(n)\n",
    "    epsilon = 0.00000001\n",
    "    \n",
    "    for i in range(n):\n",
    "        t = np.zeros(n)\n",
    "        t[i] = epsilon \n",
    "        gradiente[i] = (f(t + x0) - f(x0)) / epsilon\n",
    "        \n",
    "    return gradiente"
   ]
  },
  {
   "cell_type": "code",
   "execution_count": 133,
   "metadata": {},
   "outputs": [],
   "source": [
    "#Calcula la Hessiana de una funcion en el punto x0\n",
    "\n",
    "#f es una funcion\n",
    "#x0 es el punto donde se va a evaluar la funcion\n",
    "\n",
    "def hess(f, x0):\n",
    "    n = x0.size\n",
    "    hessiana = np.zeros((n,n))\n",
    "    epsilon = 0.00000001\n",
    "    \n",
    "    for i in range(n):\n",
    "        t = np.zeros(n)\n",
    "        t[i] = epsilon \n",
    "        \n",
    "        for k in range(n):\n",
    "            hessiana[i,k] = (grad(f, (x0 + t))[k] - grad(f,x0)[k]) / (2 * epsilon)\n",
    "            \n",
    "    return hessiana"
   ]
  },
  {
   "cell_type": "code",
   "execution_count": 134,
   "metadata": {},
   "outputs": [],
   "source": [
    "#La funcion dice si un punto cumple con ser un minimo local\n",
    "#Regresa True si es minimo y False si no lo es\n",
    "\n",
    "#f es una funcion\n",
    "#x0 es el punto donde se va a evaluar la funcion\n",
    "\n",
    "def condiciones_optimalidad(f, x0): \n",
    "    \n",
    "    n = x0.size\n",
    "    gradiente = grad(f, x0)\n",
    "    hessiana = hess(f, x0)\n",
    "    \n",
    "    landa = np.linalg.eigvals(hessiana) #Valores propios\n",
    "    resp = False\n",
    "    \n",
    "    for i in range(n):\n",
    "        if (gradiente[i] == 0) and (landa[i] >= 0):\n",
    "            resp = True\n",
    "            \n",
    "    return resp\n",
    "    "
   ]
  },
  {
   "cell_type": "code",
   "execution_count": 135,
   "metadata": {},
   "outputs": [
    {
     "ename": "SyntaxError",
     "evalue": "unexpected EOF while parsing (<ipython-input-135-47a997deed85>, line 6)",
     "output_type": "error",
     "traceback": [
      "\u001b[0;36m  File \u001b[0;32m\"<ipython-input-135-47a997deed85>\"\u001b[0;36m, line \u001b[0;32m6\u001b[0m\n\u001b[0;31m    def mk(f, x0):\u001b[0m\n\u001b[0m                  ^\u001b[0m\n\u001b[0;31mSyntaxError\u001b[0m\u001b[0;31m:\u001b[0m unexpected EOF while parsing\n"
     ]
    }
   ],
   "source": [
    "#Genera la funcion de aproximacion mk para el algoritmo de region de confianza\n",
    "\n",
    "#f es una funcion\n",
    "#x0 es el punto donde se va a evaluar la funcion\n",
    "\n",
    "def mk(f, x0):\n"
   ]
  },
  {
   "cell_type": "code",
   "execution_count": null,
   "metadata": {},
   "outputs": [],
   "source": []
  },
  {
   "cell_type": "code",
   "execution_count": 136,
   "metadata": {},
   "outputs": [
    {
     "data": {
      "text/plain": [
       "3"
      ]
     },
     "execution_count": 136,
     "metadata": {},
     "output_type": "execute_result"
    }
   ],
   "source": [
    "def f(x):\n",
    "    return sum(x ** 2)\n",
    "x = np.array([1,1,1])\n",
    "f(x)"
   ]
  },
  {
   "cell_type": "code",
   "execution_count": 137,
   "metadata": {},
   "outputs": [
    {
     "data": {
      "text/plain": [
       "array([1.99999999, 1.99999999, 1.99999999])"
      ]
     },
     "execution_count": 137,
     "metadata": {},
     "output_type": "execute_result"
    }
   ],
   "source": [
    "grad(f,x)"
   ]
  },
  {
   "cell_type": "code",
   "execution_count": 138,
   "metadata": {},
   "outputs": [
    {
     "data": {
      "text/plain": [
       "array([[2.22044605, 0.        , 0.        ],\n",
       "       [0.        , 2.22044605, 0.        ],\n",
       "       [0.        , 0.        , 2.22044605]])"
      ]
     },
     "execution_count": 138,
     "metadata": {},
     "output_type": "execute_result"
    }
   ],
   "source": [
    "hess(f,x)"
   ]
  },
  {
   "cell_type": "code",
   "execution_count": 143,
   "metadata": {},
   "outputs": [
    {
     "data": {
      "text/plain": [
       "False"
      ]
     },
     "execution_count": 143,
     "metadata": {},
     "output_type": "execute_result"
    }
   ],
   "source": [
    "condiciones_optimalidad(f, x)"
   ]
  }
 ],
 "metadata": {
  "kernelspec": {
   "display_name": "Python 3",
   "language": "python",
   "name": "python3"
  },
  "language_info": {
   "codemirror_mode": {
    "name": "ipython",
    "version": 3
   },
   "file_extension": ".py",
   "mimetype": "text/x-python",
   "name": "python",
   "nbconvert_exporter": "python",
   "pygments_lexer": "ipython3",
   "version": "3.8.5"
  }
 },
 "nbformat": 4,
 "nbformat_minor": 4
}
