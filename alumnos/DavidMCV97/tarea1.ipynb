{
 "cells": [
  {
   "cell_type": "markdown",
   "metadata": {},
   "source": [
    "# Funciones para analisis numerico"
   ]
  },
  {
   "cell_type": "markdown",
   "metadata": {},
   "source": [
    "Creador: David Martin del Campo Vergara"
   ]
  },
  {
   "cell_type": "markdown",
   "metadata": {},
   "source": [
    "Contacto: david.mcv97@gmail.com"
   ]
  },
  {
   "cell_type": "code",
   "execution_count": 2,
   "metadata": {},
   "outputs": [],
   "source": [
    "import numpy as np\n",
    "def gradiente(f,x):\n",
    "    \n",
    "    \"\"\"\n",
    "    Aproximacion numerica para el gradiente de una funcion f de R^n a R.\n",
    "    Se usa el metodo de diferenciacion central.\n",
    "    \n",
    "    entradas:\n",
    "        - f funcion de R^n a R.\n",
    "        - x vector en R^n.\n",
    "    salidas : \n",
    "        -grad aproximacion al gradiente de f en x.\n",
    "    \n",
    "    Antes de usar esta funcion, asegurese de que f sea derivable en x.\n",
    "    \"\"\"\n",
    "    x = x.astype(np.float64)\n",
    "    h = np.float64(1e-4)\n",
    "    k = 1/(2*h)\n",
    "    n = x.shape[0]\n",
    "    grad = np.zeros(n).astype(np.float64)\n",
    "    for i in range(n):\n",
    "        aux1 = np.copy(x)\n",
    "        aux2 = np.copy(x)\n",
    "        aux1[i] = aux1[i]+h\n",
    "        aux2[i] = aux2[i]-h\n",
    "        grad[i] = f(aux1)-f(aux2)\n",
    "        grad[i] = grad[i]*k\n",
    "    return grad"
   ]
  },
  {
   "cell_type": "code",
   "execution_count": 23,
   "metadata": {},
   "outputs": [],
   "source": [
    "import numpy as np\n",
    "def hessiana(f,x):\n",
    "    \n",
    "    \"\"\"\n",
    "    Aproximacion numerica para la matriz Hessiana de una funcion f de R^n a R.\n",
    "    Se usa el metodo de segunda derivada por Taylor para los elementos de la diagonal\n",
    "    y la segunda derivada parcial por Taylor para el resto.\n",
    "    \n",
    "    entradas:\n",
    "        - f funcion de R^n a R.\n",
    "        - x vector en R^n.\n",
    "    salidas : \n",
    "        -hess aproximacion a la matriz  Hessiana de f en x.\n",
    "    \n",
    "    Antes de usar esta funcion, asegurese de que la Hessiana exista para f en x.\n",
    "    \"\"\"\n",
    "    x = x.astype(np.float64)\n",
    "    h = np.float64(1e-2)\n",
    "    k = 1/(h**2)\n",
    "    n = x.shape[0]\n",
    "    hess = np.zeros((n,n)).astype(np.float64)\n",
    "    for i in range(n):\n",
    "        for j in range(i+1):\n",
    "            if i == j:\n",
    "                aux1 = np.copy(x)\n",
    "                aux2 = np.copy(x)\n",
    "                aux1[i] = aux1[i]+h\n",
    "                aux2[i] = aux2[i]-h\n",
    "                hess[i,j] = f(aux1)+f(aux2)-2*f(x)\n",
    "                hess[i,j] = hess[i,j]*k\n",
    "            else:\n",
    "                aux1 = np.copy(x)\n",
    "                aux2 = np.copy(x)\n",
    "                aux3 = np.copy(x)\n",
    "                aux1[i] = aux1[i]+h\n",
    "                aux1[j] = aux1[j]+h\n",
    "                aux2[i] = aux2[i]+h\n",
    "                aux3[j] = aux3[j]+h\n",
    "                hess[i,j] = f(aux1)-f(aux2)-f(aux3)+f(x)\n",
    "                hess[i,j] = hess[i,j]*k\n",
    "                hess[j,i] = hess[i,j]   #por simetria de la matriz hessiana\n",
    "    return hess"
   ]
  },
  {
   "cell_type": "code",
   "execution_count": 24,
   "metadata": {},
   "outputs": [],
   "source": [
    "import numpy as np\n",
    "def es_optimo(f,x):\n",
    "    \n",
    "    \"\"\"\n",
    "    Comprobación si un vector x es minimo local de una función f.\n",
    "    Si la función evaluada en el punto tiene gradiente cero y si \n",
    "    su matriz hessiana es positiva, entonces devuelve verdadero.\n",
    "    Entradas:\n",
    "        - f funcion de R^n a R.\n",
    "        - x vector en R^n.\n",
    "    salidas : \n",
    "        -optimo valor binario indicador de optimalidad.\n",
    "    \n",
    "    Antes de usar esta funcion, asegurese de que el gradiente y la \n",
    "    Hessiana existan para f en x, y que su Hessiana sea simetrica.\n",
    "    \"\"\"\n",
    "    \n",
    "    n = x.shape[0] \n",
    "    grad = abs(gradiente(f,x))\n",
    "    eps = np.float64(1e-10) * np.ones(n)\n",
    "    if all(grad < eps):\n",
    "        hess = hessiana(f,x)\n",
    "        if all (np.linalg.eigh(hess)[0] >= 0):    #esta funcion devuelve los eigenvalores de una matriz hermitiana\n",
    "            optimo = True\n",
    "        else:\n",
    "            optimo = False\n",
    "    else:\n",
    "        optimo = False\n",
    "    \n",
    "    return optimo"
   ]
  },
  {
   "cell_type": "code",
   "execution_count": 25,
   "metadata": {},
   "outputs": [],
   "source": [
    "def mk(f,x):\n",
    "    \n",
    "    \"\"\"\n",
    "    Aproximación a una función f en un punto x por medio de un polinomio de taylor de segundo grado.\n",
    "    Entradas:\n",
    "        - f funcion de R^n a R.\n",
    "        - x vector en R^n.\n",
    "    salidas : \n",
    "        - \"aproximacion\" es una funcion que aproxima f en x.\n",
    "    \"\"\"\n",
    "    \n",
    "    def aproximacion(y):\n",
    "        grad = gradiente(f,x)\n",
    "        hess = hessiana(f,x)\n",
    "        val = f(x) + y.dot(grad) + 0.5*y.dot(hess).dot(y)    #dot es el producto matricial y producto punto\n",
    "        return val\n",
    "    \n",
    "    return aproximacion"
   ]
  }
 ],
 "metadata": {
  "kernelspec": {
   "display_name": "Python 3",
   "language": "python",
   "name": "python3"
  },
  "language_info": {
   "codemirror_mode": {
    "name": "ipython",
    "version": 3
   },
   "file_extension": ".py",
   "mimetype": "text/x-python",
   "name": "python",
   "nbconvert_exporter": "python",
   "pygments_lexer": "ipython3",
   "version": "3.8.5"
  }
 },
 "nbformat": 4,
 "nbformat_minor": 4
}
