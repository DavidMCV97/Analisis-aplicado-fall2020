{
 "cells": [
  {
   "cell_type": "code",
   "execution_count": 30,
   "metadata": {},
   "outputs": [],
   "source": [
    "def wolfe(f,x,p,alpha,c1,c2):\n",
    "    \"\"\"\n",
    "    revisa las condiciones de Wolfe.\n",
    "    \n",
    "    entradas:\n",
    "        f funcion de R^n a R.\n",
    "        x vector central en R^n.\n",
    "        p vector de direccion en R^n.\n",
    "        alpha constante a evaluar en R.\n",
    "        c1 constante de la condicion de Armijo.\n",
    "        c2 constante de la condicion de curvatura.\n",
    "    salidas:\n",
    "        bueno variable binaria.\n",
    "        \n",
    "    Si bueno es verdadero, las condiciones se cumplen.\n",
    "    \"\"\"\n",
    "    aux = x + alpha*p\n",
    "    producto = gradiente(f,x).dot(p)\n",
    "    bueno = False\n",
    "    \n",
    "    if f(aux) <= f(x) + c1*alpha*producto:\n",
    "        if gradiente(f,aux).dot(p) >= c2*producto:\n",
    "            bueno = True\n",
    "            \n",
    "    return bueno"
   ]
  },
  {
   "cell_type": "code",
   "execution_count": 31,
   "metadata": {},
   "outputs": [],
   "source": [
    "def wolfe_fuerte(f,x,p,alpha,c1,c2):\n",
    "    \"\"\"\n",
    "    revisa las condiciones fuertes de Wolfe.\n",
    "    \n",
    "    entradas:\n",
    "        f funcion de R^n a R.\n",
    "        x vector central en R^n.\n",
    "        p vector de direccion en R^n.\n",
    "        alpha constante a evaluar en R.\n",
    "        c1 constante de la condicion de Armijo.\n",
    "        c2 constante de la condicion de curvatura.\n",
    "    salidas:\n",
    "        bueno variable binaria.\n",
    "        \n",
    "    Si bueno es verdadero, las condiciones se cumplen.\n",
    "    \"\"\"\n",
    "    aux = x + alpha*p\n",
    "    producto = gradiente(f,x).dot(p)\n",
    "    bueno = False\n",
    "    \n",
    "    if f(aux) <= f(x) + c1*alpha*producto:\n",
    "        if abs(gradiente(f,aux).dot(p)) <= abs(c2*producto):\n",
    "            bueno = True\n",
    "            \n",
    "    return bueno"
   ]
  }
 ],
 "metadata": {
  "kernelspec": {
   "display_name": "Python 3",
   "language": "python",
   "name": "python3"
  },
  "language_info": {
   "codemirror_mode": {
    "name": "ipython",
    "version": 3
   },
   "file_extension": ".py",
   "mimetype": "text/x-python",
   "name": "python",
   "nbconvert_exporter": "python",
   "pygments_lexer": "ipython3",
   "version": "3.8.5"
  }
 },
 "nbformat": 4,
 "nbformat_minor": 4
}
