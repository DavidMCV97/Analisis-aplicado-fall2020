{
 "cells": [
  {
   "cell_type": "code",
   "execution_count": 70,
   "metadata": {},
   "outputs": [],
   "source": [
    "import numpy as np\n"
   ]
  },
  {
   "cell_type": "code",
   "execution_count": 71,
   "metadata": {},
   "outputs": [],
   "source": [
    "def grad(f, xk): # xk in R^n, np.array. f a function\n",
    "    n   = xk.size\n",
    "    eps = np.finfo(np.float64).eps\n",
    "    res = np.zeros(n)\n",
    "    for i in range(0, n):\n",
    "        x1 = np.copy(xk)\n",
    "        x1[i] += eps\n",
    "        res[i] = (f(x1) - f(xk))/eps\n",
    "    return res"
   ]
  },
  {
   "cell_type": "code",
   "execution_count": 95,
   "metadata": {},
   "outputs": [],
   "source": [
    "def hess(f, xk):    # xk in R^n, np.array. f a function\n",
    "    n    = xk.size  # Size xk\n",
    "    fx   = f(xk)    # Value of the function in xk\n",
    "    eps  = np.finfo(np.float64).eps  # Use of the computer's epsilon\n",
    "    Hess = np.zeros((n, n))          # Initial size of the Hess Matrix\n",
    "    fxt  = np.zeros(n)               \n",
    "    for i in range(0, n):\n",
    "        aux = np.copy(xk)\n",
    "        aux[i] += eps\n",
    "        fxt[i] = f(aux)\n",
    "    for i in range(0, n):\n",
    "        for j in range(0, i + 1):\n",
    "            Hess[i, j] = fxt[i] + fxt[j]\n",
    "            xt = np.copy(xk)\n",
    "            xt[i] += eps\n",
    "            xt[j] += eps\n",
    "            Hess[i, j] += (f(xt) + fx)/(eps ** 2)\n",
    "            if i != j:\n",
    "                Hess[j, i] = Hess[i, j]\n",
    "    return Hess"
   ]
  },
  {
   "cell_type": "code",
   "execution_count": 73,
   "metadata": {},
   "outputs": [],
   "source": [
    "# Para calcular la optimalidad primero tendremos que checar si la Hessiana es positiva semidefinida\n",
    "def pos_semidef(hess):\n",
    "    w,v = np.linalg.eig(hess)\n",
    "    return np.all(w <= 0)"
   ]
  },
  {
   "cell_type": "code",
   "execution_count": 74,
   "metadata": {},
   "outputs": [],
   "source": [
    "def condiciones_optimalidad(f,xk):\n",
    "    # Código que regresa si el punto xk cumple \n",
    "    # con las condiciones de optimalidad\n",
    "    gra = grad(f,xk)\n",
    "    hes = hess(f,xk)\n",
    "    if all(gra == 0):\n",
    "        return pos_semidef(hes)\n",
    "    return False "
   ]
  },
  {
   "cell_type": "code",
   "execution_count": 78,
   "metadata": {},
   "outputs": [],
   "source": [
    "def mk(f,xk):\n",
    "    g = grad(f,xk)\n",
    "    H = hess(f,xk)\n",
    "    fk = f(xk)\n",
    "    mks = lambda p : fk+g.T*p+(1/2)*p.T*H*p;\n",
    "    return mks"
   ]
  },
  {
   "cell_type": "code",
   "execution_count": 90,
   "metadata": {},
   "outputs": [],
   "source": [
    "def f(x0):\n",
    "    return sum(x0**2 + 2*x0 - 5)\n",
    "x0 = np.array([4,2,5,2])"
   ]
  },
  {
   "cell_type": "code",
   "execution_count": 91,
   "metadata": {},
   "outputs": [
    {
     "data": {
      "text/plain": [
       "55"
      ]
     },
     "execution_count": 91,
     "metadata": {},
     "output_type": "execute_result"
    }
   ],
   "source": [
    "f(x0)"
   ]
  },
  {
   "cell_type": "code",
   "execution_count": 92,
   "metadata": {},
   "outputs": [
    {
     "data": {
      "text/plain": [
       "array([0., 0., 0., 0.])"
      ]
     },
     "execution_count": 92,
     "metadata": {},
     "output_type": "execute_result"
    }
   ],
   "source": [
    "grad(f,x0)"
   ]
  },
  {
   "cell_type": "code",
   "execution_count": 96,
   "metadata": {},
   "outputs": [
    {
     "data": {
      "text/plain": [
       "array([[4.46213011e+33, 4.46213011e+33, 4.46213011e+33, 4.46213011e+33],\n",
       "       [4.46213011e+33, 4.46213011e+33, 4.46213011e+33, 4.46213011e+33],\n",
       "       [4.46213011e+33, 4.46213011e+33, 4.46213011e+33, 4.46213011e+33],\n",
       "       [4.46213011e+33, 4.46213011e+33, 4.46213011e+33, 4.46213011e+33]])"
      ]
     },
     "execution_count": 96,
     "metadata": {},
     "output_type": "execute_result"
    }
   ],
   "source": [
    "hess(f,x0)"
   ]
  },
  {
   "cell_type": "code",
   "execution_count": 84,
   "metadata": {},
   "outputs": [
    {
     "data": {
      "text/plain": [
       "False"
      ]
     },
     "execution_count": 84,
     "metadata": {},
     "output_type": "execute_result"
    }
   ],
   "source": [
    "condiciones_optimalidad(f,x0)"
   ]
  },
  {
   "cell_type": "code",
   "execution_count": 85,
   "metadata": {},
   "outputs": [
    {
     "data": {
      "text/plain": [
       "<function __main__.mk.<locals>.<lambda>(p)>"
      ]
     },
     "execution_count": 85,
     "metadata": {},
     "output_type": "execute_result"
    }
   ],
   "source": [
    "mk(f,x0)"
   ]
  }
 ],
 "metadata": {
  "kernelspec": {
   "display_name": "Python 3",
   "language": "python",
   "name": "python3"
  },
  "language_info": {
   "codemirror_mode": {
    "name": "ipython",
    "version": 3
   },
   "file_extension": ".py",
   "mimetype": "text/x-python",
   "name": "python",
   "nbconvert_exporter": "python",
   "pygments_lexer": "ipython3",
   "version": "3.8.5"
  }
 },
 "nbformat": 4,
 "nbformat_minor": 4
}
