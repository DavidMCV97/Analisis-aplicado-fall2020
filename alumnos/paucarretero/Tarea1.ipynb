{
 "cells": [
  {
   "cell_type": "code",
   "execution_count": 3,
   "metadata": {},
   "outputs": [],
   "source": [
    "import numpy as np"
   ]
  },
  {
   "cell_type": "code",
   "execution_count": 93,
   "metadata": {},
   "outputs": [],
   "source": [
    "def condiciones_optimalidad(f,xk):\n",
    "    # Código que regresa si el punto xk cumple \n",
    "    # con las condiciones de optimalidad   \n",
    "    n=x0.size\n",
    "    grad=gradiente(f,x0)\n",
    "    checargradiente= grad==0\n",
    "    detmenhess=np.zeros(n)\n",
    "    hess=hessiana(f,x0)\n",
    "    for i in range(n):\n",
    "        menori=hess[0:i+1,0:i+1]\n",
    "        detmenhess[i]=np.linalg.det(menori)\n",
    "    checarhessiana=detmenhess>0\n",
    "    \n",
    "    if checargradiente.all() & checarhessiana.all():\n",
    "        print(\"El punto cumple con optimalidad\")\n",
    "    else:\n",
    "        print(\"El punto no cumple con optimalidad\")\n",
    "                                                                                       "
   ]
  },
  {
   "cell_type": "code",
   "execution_count": 86,
   "metadata": {},
   "outputs": [],
   "source": [
    "def gradiente(f, x0): #x0 in R^n, np.array. f a function\n",
    "    n=x0.size\n",
    "    eps=0.000000001\n",
    "    res=np.zeros(n)\n",
    "    for i in range(n):\n",
    "        aux=np.zeros(n)\n",
    "        aux[i] +=eps\n",
    "        xi=x0+aux\n",
    "        res[i]=(f(xi)-f(x0))/eps\n",
    "    return res"
   ]
  },
  {
   "cell_type": "code",
   "execution_count": 34,
   "metadata": {},
   "outputs": [],
   "source": [
    "def hessiana(f, x0): #x0 in R^n, np.array\n",
    "    n=x0.size\n",
    "    eps=0.000001\n",
    "    hes=np.zeros((n,n))\n",
    "    for i in range(n):\n",
    "        for j in range(n):\n",
    "            aux1=np.zeros(n)\n",
    "            aux1[i] += eps\n",
    "            aux1[j] += eps\n",
    "            xi1=x0+aux1\n",
    "            aux2=np.zeros(n)\n",
    "            aux2[i] += eps\n",
    "            xi2= x0+aux2\n",
    "            aux3=np.zeros(n)\n",
    "            aux3[j] += eps\n",
    "            xi3 = x0+aux3\n",
    "            hes[i,j]=f(xi1)-f(xi2)-f(xi3)+f(x0)\n",
    "            hes[i,j]/= eps**2\n",
    "            \n",
    "    return hes"
   ]
  },
  {
   "cell_type": "code",
   "execution_count": 4,
   "metadata": {},
   "outputs": [],
   "source": [
    "def f(x0):\n",
    "    return np.sqrt(sum(x0**2+2*x0-5))"
   ]
  },
  {
   "cell_type": "code",
   "execution_count": 95,
   "metadata": {},
   "outputs": [
    {
     "data": {
      "text/plain": [
       "-12"
      ]
     },
     "execution_count": 95,
     "metadata": {},
     "output_type": "execute_result"
    }
   ],
   "source": [
    "def f(x0):\n",
    "    return sum(x0**2-3)\n",
    "x0=np.array([0,0,0,0])\n",
    "f(x0)"
   ]
  },
  {
   "cell_type": "code",
   "execution_count": 91,
   "metadata": {},
   "outputs": [
    {
     "data": {
      "text/plain": [
       "array([[2.0001778, 0.       , 0.       , 0.       ],\n",
       "       [0.       , 2.0001778, 0.       , 0.       ],\n",
       "       [0.       , 0.       , 2.0001778, 0.       ],\n",
       "       [0.       , 0.       , 0.       , 2.0001778]])"
      ]
     },
     "execution_count": 91,
     "metadata": {},
     "output_type": "execute_result"
    }
   ],
   "source": [
    "hessiana(f,x0)"
   ]
  },
  {
   "cell_type": "code",
   "execution_count": 96,
   "metadata": {},
   "outputs": [
    {
     "name": "stdout",
     "output_type": "stream",
     "text": [
      "El punto cumple con optimalidad\n"
     ]
    }
   ],
   "source": [
    "condiciones_optimalidad(f,x0)"
   ]
  },
  {
   "cell_type": "code",
   "execution_count": 97,
   "metadata": {},
   "outputs": [],
   "source": [
    "def mk(f,x0,p):\n",
    "    # Código que genera la función de aproximación\n",
    "    # mk que vimos en clase para el algoritmo de \n",
    "    # Región de confianza.  #p?\n",
    "    H=hessiana(f,x0)\n",
    "    G=gradiente(f,x0)\n",
    "    \n",
    "    return f(x0)+p^t*G+0.5*p^t*H*p"
   ]
  }
 ],
 "metadata": {
  "kernelspec": {
   "display_name": "Python 3",
   "language": "python",
   "name": "python3"
  },
  "language_info": {
   "codemirror_mode": {
    "name": "ipython",
    "version": 3
   },
   "file_extension": ".py",
   "mimetype": "text/x-python",
   "name": "python",
   "nbconvert_exporter": "python",
   "pygments_lexer": "ipython3",
   "version": "3.8.5"
  }
 },
 "nbformat": 4,
 "nbformat_minor": 4
}
