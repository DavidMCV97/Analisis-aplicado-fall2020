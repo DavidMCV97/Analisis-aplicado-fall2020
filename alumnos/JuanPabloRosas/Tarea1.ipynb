{
 "metadata": {
  "language_info": {
   "codemirror_mode": {
    "name": "ipython",
    "version": 3
   },
   "file_extension": ".py",
   "mimetype": "text/x-python",
   "name": "python",
   "nbconvert_exporter": "python",
   "pygments_lexer": "ipython3",
   "version": "3.8.5-final"
  },
  "orig_nbformat": 2,
  "kernelspec": {
   "name": "python_defaultSpec_1600659937108",
   "display_name": "Python 3.8.5 32-bit"
  }
 },
 "nbformat": 4,
 "nbformat_minor": 2,
 "cells": [
  {
   "cell_type": "code",
   "execution_count": 5,
   "metadata": {
    "tags": []
   },
   "outputs": [],
   "source": [
    "import numpy as np\n",
    "\n"
   ]
  },
  {
   "cell_type": "code",
   "execution_count": 6,
   "metadata": {},
   "outputs": [],
   "source": [
    "def gradiente(f, xk):\n",
    "    n=xk.size\n",
    "    epsilon=10e-5\n",
    "    fh = np.zeros(n)\n",
    "    x_0 = np.array(xk)\n",
    "    x_h = np.array(xk)\n",
    "    for i in range(n):\n",
    "        x_h[i] += epsilon\n",
    "        fh[i] = (f(x_h)-f(x_0))/epsilon\n",
    "        x_h[i] -= epsilon\n",
    "    return fh"
   ]
  },
  {
   "cell_type": "code",
   "execution_count": 7,
   "metadata": {},
   "outputs": [],
   "source": [
    "def hessiana(f, xk):\n",
    "    n = xk.size\n",
    "    epsilon = 10e-5\n",
    "    h = np.zeros([n,n])\n",
    "    for i in range(n):\n",
    "        x_h = np.array(xk)\n",
    "        x_h[i] += epsilon\n",
    "        gx0 = np.array(gradiente(f,xk), dtype=float)\n",
    "        gxh = np.array(gradiente(f,x_h), dtype=float)\n",
    "        h[:,i] = (gxh - gx0)/epsilon\n",
    "    return h\n"
   ]
  },
  {
   "cell_type": "code",
   "execution_count": 10,
   "metadata": {},
   "outputs": [],
   "source": [
    "def condiciones_optimalidad(f, xk):\n",
    "    if np.all(np.linalg.eigvals(hessiana(f,xk)) > 0) and np.all(gradiente(f,xk) == 0):\n",
    "        return True\n",
    "    else:\n",
    "        return False\n",
    "        "
   ]
  },
  {
   "cell_type": "code",
   "execution_count": 15,
   "metadata": {},
   "outputs": [],
   "source": [
    "def mk(f, xk, p):\n",
    "    h = hessiana(f, xk)\n",
    "    grad = gradiente(f, xk).T\n",
    "    return f(xk) + np.dot(p.T,grad) + 0.5*(np.dot(np.dot(p.T,h),p))\n"
   ]
  },
  {
   "cell_type": "code",
   "execution_count": 16,
   "metadata": {
    "tags": []
   },
   "outputs": [
    {
     "output_type": "stream",
     "name": "stdout",
     "text": "[-3.99980000e+00 -3.00026670e-08  1.60024002e+01]\n[[ 3.99999998e+00  8.88178420e-08  0.00000000e+00]\n [ 8.88178420e-08 -1.79998239e-03  0.00000000e+00]\n [ 0.00000000e+00  0.00000000e+00  4.80096007e+01]]\nFalse\n268.04700354814923\n"
    }
   ],
   "source": [
    "#EJEMPLO:\n",
    "def f(xk):\n",
    "    return 2*xk[0]**2 - 3*xk[1]**3 + 4*xk[2]**4;\n",
    "xk = np.array([-1,0,1], dtype=float)\n",
    "print(gradiente(f,xk))\n",
    "print(hessiana(f,xk))\n",
    "p = np.array([1,2,3],dtype=float).T\n",
    "print(condiciones_optimalidad(f,xk))\n",
    "print(mk(f,xk,p))\n"
   ]
  }
 ]
}